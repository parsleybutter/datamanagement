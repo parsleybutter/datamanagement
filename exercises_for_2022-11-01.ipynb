{
 "cells": [
  {
   "cell_type": "markdown",
   "metadata": {},
   "source": [
    "# Exercises for 11/01/2022\n",
    "\n",
    "Please submit saved versions of these notebooks with exercises filled in. "
   ]
  },
  {
   "cell_type": "markdown",
   "metadata": {},
   "source": [
    "For background, read through, work through, or consult as much as you need of Karsdorp <a href=\"https://nbviewer.jupyter.org/github/fbkarsdorp/python-course/blob/master/Chapter%202%20-%20First%20steps.ipynb\">Chapter 2</a>, Melanie Walsh's <a href=\"https://melaniewalsh.github.io/Intro-Cultural-Analytics/02-Python/00-Python.html\">Intro to Cultural Analytics &amp; Python</a>, or Allen Downey's <a href=\"http://greenteapress.com/thinkpython2/html/index.html\">Think Python book</a>, particularly chapters on <a href=\"http://greenteapress.com/thinkpython2/html/thinkpython2004.html\">functions,</a> <a href=\"http://greenteapress.com/thinkpython2/html/thinkpython2006.html\">conditionals,</a> <a href=\"http://greenteapress.com/thinkpython2/html/thinkpython2009.html\">strings,</a> and <a href=\"http://greenteapress.com/thinkpython2/html/thinkpython2011.html\">lists,</a> and experiment enough to be sure you have the basic concepts. These exercises will give you a chance to double-check that you can start to make this material your own. "
   ]
  },
  {
   "cell_type": "markdown",
   "metadata": {},
   "source": [
    "## Dictionaries"
   ]
  },
  {
   "cell_type": "markdown",
   "metadata": {},
   "source": [
    "As we have seen, any value in a list is indexed by its zero-based integer position."
   ]
  },
  {
   "cell_type": "code",
   "execution_count": 1,
   "metadata": {},
   "outputs": [
    {
     "data": {
      "text/plain": [
       "'winter'"
      ]
     },
     "execution_count": 1,
     "metadata": {},
     "output_type": "execute_result"
    }
   ],
   "source": [
    "seasons = ['spring','summer','winter','fall']\n",
    "seasons[2]"
   ]
  },
  {
   "cell_type": "markdown",
   "metadata": {},
   "source": [
    "A dictionary is an unordered set of values that are indexed by a key value, which is often a string, although it could be an integer as well. A dictionary structure is sometimes also called a map, because it maps a set of input values to a set of output values. Output values can be varied — they can be strings, numbers, lists, more dictionaries, or other Python objects, even quite complex ones. "
   ]
  },
  {
   "cell_type": "code",
   "execution_count": 2,
   "metadata": {},
   "outputs": [],
   "source": [
    "# Here we map month abbreviations to nice readable month names.\n",
    "# For clarity, I have separated these onto multiple lines, although that is not necessary. \n",
    "# The same dictionary could be created all on one very long line, or on four lines with three months each, etc.\n",
    "# The major difference is readability for ourselves as human readers.\n",
    "# Note that we use square brackets to create lists, and curly braces to create dictionaries.\n",
    "\n",
    "months = {\"jan\" : \"January\", \n",
    "          \"feb\" : \"February\", \n",
    "          \"mar\" : \"March\", \n",
    "          \"apr\" : \"April\", \n",
    "          \"may\" : \"May\", \n",
    "          \"jun\" : \"June\", \n",
    "          \"jul\" : \"July\", \n",
    "          \"aug\" : \"Aug\", \n",
    "          \"sep\" : \"September\", \n",
    "          \"oct\" : \"October\", \n",
    "          \"nov\" : \"November\", \n",
    "          \"dec\" : \"December\"}"
   ]
  },
  {
   "cell_type": "code",
   "execution_count": 3,
   "metadata": {},
   "outputs": [
    {
     "data": {
      "text/plain": [
       "{'jan': 'January',\n",
       " 'feb': 'February',\n",
       " 'mar': 'March',\n",
       " 'apr': 'April',\n",
       " 'may': 'May',\n",
       " 'jun': 'June',\n",
       " 'jul': 'July',\n",
       " 'aug': 'Aug',\n",
       " 'sep': 'September',\n",
       " 'oct': 'October',\n",
       " 'nov': 'November',\n",
       " 'dec': 'December'}"
      ]
     },
     "execution_count": 3,
     "metadata": {},
     "output_type": "execute_result"
    }
   ],
   "source": [
    "# Note that order of items in a dictionary is not guaranteed, \n",
    "# although in recent versions of Python the default is to keep items in the order\n",
    "# in which they were added to the dictionary.\n",
    "months"
   ]
  },
  {
   "cell_type": "code",
   "execution_count": 4,
   "metadata": {},
   "outputs": [
    {
     "data": {
      "text/plain": [
       "dict_keys(['jan', 'feb', 'mar', 'apr', 'may', 'jun', 'jul', 'aug', 'sep', 'oct', 'nov', 'dec'])"
      ]
     },
     "execution_count": 4,
     "metadata": {},
     "output_type": "execute_result"
    }
   ],
   "source": [
    "# If you want the values of the keys: \n",
    "months.keys()"
   ]
  },
  {
   "cell_type": "code",
   "execution_count": 5,
   "metadata": {},
   "outputs": [
    {
     "data": {
      "text/plain": [
       "dict_values(['January', 'February', 'March', 'April', 'May', 'June', 'July', 'Aug', 'September', 'October', 'November', 'December'])"
      ]
     },
     "execution_count": 5,
     "metadata": {},
     "output_type": "execute_result"
    }
   ],
   "source": [
    "# If you want the values of the values:\n",
    "months.values()"
   ]
  },
  {
   "cell_type": "markdown",
   "metadata": {},
   "source": [
    "If we want to use a Python object to represent average low and high temperatures per month, a dictionary is a handy choice. Here we will count on knowing in advance that the low temperature is the first of each pair of numbers. These are average highs and lows for St. Louis found online a few years ago, and may not be perfectly accurate and up-to-date."
   ]
  },
  {
   "cell_type": "code",
   "execution_count": 6,
   "metadata": {},
   "outputs": [],
   "source": [
    "temps = {\n",
    "    'jan' : [21, 38],\n",
    "    'feb' : [27, 44],\n",
    "    'mar' : [36, 55],\n",
    "    'apr' : [47, 67],\n",
    "    'may' : [57, 76],\n",
    "    'jun' : [66, 85],\n",
    "    'jul' : [71, 90],\n",
    "    'aug' : [69, 88],\n",
    "    'sep' : [60, 80],\n",
    "    'oct' : [48, 68],\n",
    "    'nov' : [37, 54],\n",
    "    'dec' : [26, 42]\n",
    "}"
   ]
  },
  {
   "cell_type": "markdown",
   "metadata": {},
   "source": [
    "## Exercise 1\n",
    "\n",
    "Use the `months` and the `temps` dictionaries to create a new function, `stl_historic`, that given the three-letter key for a month prints a nicely formatted one-line report with the low and high temperatures for that month. \n",
    "\n",
    "For example, it should behave like this (the first line is what you would type in the cell, and the second line is the output):\n",
    "\n",
    "    []: stl_historic('jan')\n",
    "    \n",
    "        Temperatures in January range from 21 (avg low) to 38 (avg high)\n",
    "\n"
   ]
  },
  {
   "cell_type": "code",
   "execution_count": null,
   "metadata": {},
   "outputs": [],
   "source": [
    "def stl_historic(month):\n",
    "    \n",
    "    # fill in function"
   ]
  },
  {
   "cell_type": "markdown",
   "metadata": {},
   "source": [
    "## Exercise 2\n",
    "\n",
    "One of the things that is slightly awkward about the `temps` dictionary above is that we have to keep track of which index means 'low' and which means 'high'. With only two values, it's not *that* big of a burden, but its awkwardness would get more pronounced if we started tracking more values, like record high and record low temperatures alongside the averages, etc. \n",
    "\n",
    "Show how you would structure a new dictionary, `temps2`, so that we can use it like this:\n",
    "\n",
    "    > temps2['jan']['low']   \n",
    "      21\n",
    "      \n",
    "You don't have to recreate all 12 months in this form, but include at least three months to give a clear sense of how it can work. \n",
    "\n",
    "(The *keys* in your dictionary should be strings, but the *values* can be of other types such as integers, strings, lists, or (in this case) nested dictionaries.)"
   ]
  },
  {
   "cell_type": "code",
   "execution_count": null,
   "metadata": {},
   "outputs": [],
   "source": [
    "temps2 = {\n",
    "        # fill in here\n",
    "\n",
    "}"
   ]
  },
  {
   "cell_type": "code",
   "execution_count": null,
   "metadata": {},
   "outputs": [],
   "source": [
    "temps2['jan']['low']"
   ]
  },
  {
   "cell_type": "markdown",
   "metadata": {},
   "source": [
    "## Setup for Exercise 3"
   ]
  },
  {
   "cell_type": "markdown",
   "metadata": {},
   "source": [
    "Here is a function that prints a string up to a certain number of characters wide \n",
    "and pads it with hyphens. It raises an error if the string is wider than the pad width."
   ]
  },
  {
   "cell_type": "code",
   "execution_count": 7,
   "metadata": {},
   "outputs": [],
   "source": [
    "def pad_print(a_string, padwidth):\n",
    "    \n",
    "    stringlength = len(a_string)\n",
    "    \n",
    "    if stringlength > padwidth:\n",
    "        raise ValueError(\"String is wider than padwidth\")\n",
    "    \n",
    "    else:\n",
    "        print(a_string, end=\"\")\n",
    "        print(\"-\" * (padwidth - stringlength), end=\"\")\n",
    "        "
   ]
  },
  {
   "cell_type": "markdown",
   "metadata": {},
   "source": [
    "Here's how it works:"
   ]
  },
  {
   "cell_type": "code",
   "execution_count": 8,
   "metadata": {},
   "outputs": [
    {
     "name": "stdout",
     "output_type": "stream",
     "text": [
      "October-----------------------"
     ]
    }
   ],
   "source": [
    "pad_print(\"October\", 30)"
   ]
  },
  {
   "cell_type": "markdown",
   "metadata": {},
   "source": [
    "## Exercise 3\n",
    "\n",
    "Write a function _padprint2_ below that pads with **asterisks on the left** rather than **hyphens on the right**.\n",
    "\n",
    "It should function like this:\n",
    "\n",
    "    > padprint2(\"September\", 30)\n",
    "    \n",
    "      *********************September"
   ]
  },
  {
   "cell_type": "code",
   "execution_count": null,
   "metadata": {},
   "outputs": [],
   "source": [
    "def padprint2(a_string, padwidth):\n",
    "\n",
    "   # fill in here\n"
   ]
  },
  {
   "cell_type": "code",
   "execution_count": null,
   "metadata": {},
   "outputs": [],
   "source": []
  },
  {
   "cell_type": "markdown",
   "metadata": {},
   "source": [
    "## Exercise 4"
   ]
  },
  {
   "cell_type": "markdown",
   "metadata": {},
   "source": [
    "Write a function _marquee_ that will simulate a horizontally scrolling marquee, \n",
    "printing a string with successive offsets.\n",
    "\n",
    "For example:\n",
    "\n",
    "    > marquee(\"Volatility\")\n",
    "    \n",
    "      Volatility\n",
    "      olatilityV\n",
    "      latilityVo\n",
    "      atilityVol\n",
    "      tilityVola\n",
    "      ilityVolat\n",
    "      lityVolati\n",
    "      ityVolatil\n",
    "      tyVolatili\n",
    "      yVolatilit"
   ]
  },
  {
   "cell_type": "code",
   "execution_count": null,
   "metadata": {},
   "outputs": [],
   "source": [
    "def marquee(x):\n",
    "    \n",
    "    # fill in function here"
   ]
  },
  {
   "cell_type": "code",
   "execution_count": null,
   "metadata": {},
   "outputs": [],
   "source": []
  },
  {
   "cell_type": "markdown",
   "metadata": {},
   "source": [
    "## Setup for Exercises 5 and following \n",
    "\n",
    "The following exercises are from Downey, _Think Python 2e_, Chapter 9, <a href=\"http://greenteapress.com/thinkpython2/html/thinkpython2010.html#sec107\">Case study: word play</a>\n",
    "\n",
    "\n",
    "\n",
    "First, get a local copy of Downey's <a href=\"https://raw.githubusercontent.com/AllenDowney/ThinkPython2/master/code/words.txt\">words.txt</a> file, which began as a version of the <a href=\"https://en.wikipedia.org/wiki/Moby_Project\">Moby Project's</a> list of words used in crossword puzzles and Scrabble. You can use the URL to save a copy manually, or can run the code in the next cell once:"
   ]
  },
  {
   "cell_type": "code",
   "execution_count": null,
   "metadata": {},
   "outputs": [],
   "source": [
    "import requests\n",
    "def get_words_file():\n",
    "    r = requests.get(\"https://raw.githubusercontent.com/AllenDowney/ThinkPython2/master/code/words.txt\")\n",
    "    if r.ok:\n",
    "        with open(\"words.txt\", \"w\") as writefile:\n",
    "            writefile.write(r.text)\n",
    "\n",
    "get_words_file()"
   ]
  },
  {
   "cell_type": "code",
   "execution_count": null,
   "metadata": {},
   "outputs": [],
   "source": []
  },
  {
   "cell_type": "markdown",
   "metadata": {},
   "source": [
    "## Exercise 5\n",
    "\n",
    "[Downey's Exercise 1]\n",
    "\n",
    "Write a program that reads words.txt and prints only the words with more than 20 characters (not counting whitespace)."
   ]
  },
  {
   "cell_type": "code",
   "execution_count": null,
   "metadata": {},
   "outputs": [],
   "source": [
    "# This is an alternative to Downey's setup code, although his will work fine too.\n",
    "# This opens a file, turns it into a list of lines, and assigns that list to a variable name:\n",
    "\n",
    "words = open(\"words.txt\").readlines()"
   ]
  },
  {
   "cell_type": "code",
   "execution_count": null,
   "metadata": {},
   "outputs": [],
   "source": [
    "for word in words:\n",
    "    # write code here that prints only words with more than 20 characters|"
   ]
  },
  {
   "cell_type": "code",
   "execution_count": null,
   "metadata": {},
   "outputs": [],
   "source": []
  },
  {
   "cell_type": "markdown",
   "metadata": {},
   "source": [
    "## Exercise 6\n",
    "\n",
    "[Downey's Exercise 2]\n",
    "\n",
    "The bold highlighting below is mine to call attention to the instructions, but the language is Downey's. He introduces this by saying:\n",
    "\n",
    ">In 1939 Ernest Vincent Wright published a 50,000 word novel called Gadsby that does not contain the letter “e”. Since “e” is the most common letter in English, that’s not easy to do.\n",
    "\n",
    ">In fact, it is difficult to construct a solitary thought without using that most common symbol. It is slow going at first, but with caution and hours of training you can gradually gain facility.\n",
    "\n",
    ">All right, I’ll stop now.\n",
    "\n",
    ">**Write a function called has_no_e that returns True if the given word doesn’t have the letter “e” in it.**\n",
    "\n",
    ">**Modify your program from the previous section to print only the words that have no “e” and compute the percentage of the words in the list that have no “e”.**"
   ]
  },
  {
   "cell_type": "code",
   "execution_count": null,
   "metadata": {},
   "outputs": [],
   "source": [
    "def has_no_e(word):\n",
    "    # fill in function"
   ]
  },
  {
   "cell_type": "markdown",
   "metadata": {},
   "source": [
    "<div style=\"background: #E0E0E0; padding: 50px; border: 1px solid #808080\">\n",
    "    <p><b>Optional distraction:</b> Downey mentions only <i>Gadsby,</i> but there are later, and perhaps literarily more interesting, examples of this kind of writing. In 1969 the French author Georges Perec published <i>La Disparition</i>, a 300-page novel, without using the letter 'e', and found much to say. An English translation was later published under the title <i>A Void</i>, and there are translations into other languages as well.</p>\n",
    "\n",
    "<p>The general term for this particular kind of constrained writing is a <a href=\"https://en.wikipedia.org/wiki/Lipogram\">lipogram</a>. Perec was a member of a group of French authors who loosely organized themselves under the name <i>Oulipo</i>, who have explored various possibilities of writing under constraint, as well as connections between language and mathematics.</p>\n",
    "\n",
    "<p>If you are curious about this sort of thing, you may also want to track down the work <a href=\"https://web.archive.org/web/20090224191857/http://archives.chbooks.com:80/online_books/eunoia/a.html\"><i>Eunoia</i></a> by Canadian poet Christian Bök. Each chapter limits itself to a single vowel.</p>\n",
    "\n",
    "<p>And if you are interested in creative coding and electronic text, and want to put Python to use and keep learning more, I highly recommend looking up the poet Allison Parrish and especially the materials for her course <a href=\"https://rwet.decontextualize.com/\">Reading and Writing Electronic Text</a>, taught at NYU last spring. Her <a href=\"https://github.com/aparrish/rwet\">Jupyter notebooks</a> are freely available online.</p>\n",
    "    </div>"
   ]
  },
  {
   "cell_type": "markdown",
   "metadata": {},
   "source": [
    "## Exercise 7\n",
    "\n",
    "[Downey's Exercise 3]  \n",
    "\n",
    ">Write a function named `avoids` that takes a word and a string of forbidden letters, and that returns `True` if the word doesn’t use any of the forbidden letters.\n",
    "\n",
    ">Modify your program to prompt the user to enter a string of forbidden letters and then print the number of words that don’t contain any of them. \n",
    "\n",
    "To complete the second part of this, you will need to know about the \"input\" function, which stops the program, pops up a text box for you to type some text in, and then continues when you press Enter, using whatever you typed as the output of the function.\n",
    "\n",
    "       \n",
    "       user_letters = input()\n",
    "       \n",
    "Also, when Downey writes \"print the number of words,\" he means count the number of words that are in the \"words.txt\" list that we used above that meet the given criteria."
   ]
  },
  {
   "cell_type": "code",
   "execution_count": null,
   "metadata": {},
   "outputs": [],
   "source": [
    "def avoids(word, forbiddenletters):\n",
    "    # fill in function"
   ]
  },
  {
   "cell_type": "code",
   "execution_count": null,
   "metadata": {},
   "outputs": [],
   "source": []
  }
 ],
 "metadata": {
  "kernelspec": {
   "display_name": "Python 3 (ipykernel)",
   "language": "python",
   "name": "python3"
  },
  "language_info": {
   "codemirror_mode": {
    "name": "ipython",
    "version": 3
   },
   "file_extension": ".py",
   "mimetype": "text/x-python",
   "name": "python",
   "nbconvert_exporter": "python",
   "pygments_lexer": "ipython3",
   "version": "3.10.4"
  }
 },
 "nbformat": 4,
 "nbformat_minor": 4
}
